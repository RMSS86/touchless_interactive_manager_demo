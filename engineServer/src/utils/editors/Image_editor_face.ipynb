{
 "cells": [
  {
   "cell_type": "code",
   "id": "initial_id",
   "metadata": {
    "collapsed": true
   },
   "source": [
    ""
   ],
   "outputs": [],
   "execution_count": null
  },
  {
   "metadata": {},
   "cell_type": "code",
   "source": "import mediapipe",
   "id": "109a946e361ec938",
   "outputs": [],
   "execution_count": null
  },
  {
   "metadata": {},
   "cell_type": "code",
   "source": [
    "import cv2\n",
    "import pandas as pd\n",
    "import matplotlib.pyplot as plt"
   ],
   "id": "e1bfd7c153b165ef",
   "outputs": [],
   "execution_count": null
  },
  {
   "metadata": {},
   "cell_type": "code",
   "source": [
    "img = cv2.imread(\"../data/faces/raw_images/robbie_trevor.jpg\")\n",
    "\n",
    "fig = plt.figure(figsize=(8, 8))\n",
    "plt.axis('off')\n",
    "plt.imshow(img[:, :, ::-1])\n",
    "plt.show()\n"
   ],
   "id": "2c39456bb86f1870",
   "outputs": [],
   "execution_count": null
  },
  {
   "metadata": {},
   "cell_type": "code",
   "source": [
    "mp_face_mesh = mediapipe.solutions.face_mesh\n",
    "face_mesh = mp_face_mesh.FaceMesh(static_image_mode=True)"
   ],
   "id": "f91869901f5e7971",
   "outputs": [],
   "execution_count": null
  },
  {
   "metadata": {},
   "cell_type": "code",
   "source": [
    "results = face_mesh.process(cv2.cvtColor(img, cv2.COLOR_BGR2RGB))\n",
    "landmarks = results.multi_face_landmarks[0]"
   ],
   "id": "f9aa264e69705cba",
   "outputs": [],
   "execution_count": null
  },
  {
   "metadata": {},
   "cell_type": "code",
   "source": [
    "face_oval = mp_face_mesh.FACEMESH_FACE_OVAL\n",
    "\n",
    "import pandas as pd\n",
    "df = pd.DataFrame(list(face_oval), columns = [\"p1\", \"p2\"])"
   ],
   "id": "45b4e31d69644459",
   "outputs": [],
   "execution_count": null
  },
  {
   "metadata": {},
   "cell_type": "code",
   "source": [
    "routes_idx = []\n",
    "\n",
    "p1 = df.iloc[0][\"p1\"]\n",
    "p2 = df.iloc[0][\"p2\"]\n",
    "\n",
    "for i in range(0, df.shape[0]):\n",
    "\n",
    "    #print(p1, p2)\n",
    "\n",
    "    obj = df[df[\"p1\"] == p2]\n",
    "    p1 = obj[\"p1\"].values[0]\n",
    "    p2 = obj[\"p2\"].values[0]\n",
    "\n",
    "    route_idx = []\n",
    "    route_idx.append(p1)\n",
    "    route_idx.append(p2)\n",
    "    routes_idx.append(route_idx)\n",
    "\n",
    "# -------------------------------\n",
    "\n",
    "for route_idx in routes_idx:\n",
    "    print(f\"Draw a line between {route_idx[0]}th landmark point to {route_idx[1]}th landmark point\")\n"
   ],
   "id": "ed3cbd9bf409642d",
   "outputs": [],
   "execution_count": null
  },
  {
   "metadata": {},
   "cell_type": "code",
   "source": [
    "\n",
    "routes = []\n",
    "\n",
    "for source_idx, target_idx in routes_idx:\n",
    "\n",
    "    source = landmarks.landmark[source_idx]\n",
    "    target = landmarks.landmark[target_idx]\n",
    "\n",
    "    relative_source = (int(img.shape[1] * source.x), int(img.shape[0] * source.y))\n",
    "    relative_target = (int(img.shape[1] * target.x), int(img.shape[0] * target.y))\n",
    "\n",
    "    cv2.line(img, relative_source, relative_target, (255, 255, 255), thickness = 3)\n",
    "\n",
    "    routes.append(relative_source)\n",
    "    routes.append(relative_target)\n"
   ],
   "id": "49a1cedb4933a9d1",
   "outputs": [],
   "execution_count": null
  },
  {
   "metadata": {},
   "cell_type": "code",
   "source": [
    "import numpy as np\n",
    "\n",
    "mask = np.zeros((img.shape[0], img.shape[1]))\n",
    "mask = cv2.fillConvexPoly(mask, np.array(routes), 1)\n",
    "mask = mask.astype(bool)\n",
    "\n",
    "out = np.zeros_like(img)\n",
    "out[mask] = img[mask]\n",
    "#\n",
    "# x_start = 0\n",
    "# y_start = 0\n",
    "# x_end = 100\n",
    "# y_end = 100\n",
    "#\n",
    "# # Crop the image\n",
    "# cropped_image = image[y_start:y_end, x_start:x_end]\n",
    "\n",
    "fig = plt.figure(figsize = (9, 10))\n",
    "plt.axis('off')\n",
    "plt.imshow(out[:, :, ::-1])"
   ],
   "id": "b02dd46a25a8b74e",
   "outputs": [],
   "execution_count": null
  },
  {
   "metadata": {},
   "cell_type": "code",
   "source": "",
   "id": "84bc476a6257fae6",
   "outputs": [],
   "execution_count": null
  }
 ],
 "metadata": {
  "kernelspec": {
   "display_name": "Python 3",
   "language": "python",
   "name": "python3"
  },
  "language_info": {
   "codemirror_mode": {
    "name": "ipython",
    "version": 2
   },
   "file_extension": ".py",
   "mimetype": "text/x-python",
   "name": "python",
   "nbconvert_exporter": "python",
   "pygments_lexer": "ipython2",
   "version": "2.7.6"
  }
 },
 "nbformat": 4,
 "nbformat_minor": 5
}
